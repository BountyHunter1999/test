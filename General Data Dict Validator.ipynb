{
 "cells": [
  {
   "cell_type": "markdown",
   "id": "23485545",
   "metadata": {},
   "source": [
    "# One Way"
   ]
  },
  {
   "cell_type": "code",
   "execution_count": 7,
   "id": "3633ee49",
   "metadata": {},
   "outputs": [],
   "source": [
    "class Validator:\n",
    "    \n",
    "    \n",
    "    def __init__(self, data, rule):\n",
    "        self.data = data\n",
    "        self.min_val = rule['min_val']\n",
    "        self.max_val = rule['max_val']\n",
    "        self.min_len = rule['min_len']\n",
    "        self.max_len = rule['max_len']\n",
    "        self.state = rule['state']\n",
    "        self.fields = rule['fields']\n",
    "        self.type = rule['type']\n",
    "        \n",
    "    def string_val(self, field):\n",
    "        d = self.data[field]\n",
    "        if type(d) == self.type[self.fields.index(field)]:\n",
    "            if len(d) <= self.max_len  and len(d) >= self.min_len :\n",
    "                return True\n",
    "        return False\n",
    "    \n",
    "    def int_val(self, field):\n",
    "        d = self.data[field]\n",
    "        if type(data) == self.type[self.fields.index(field)]:\n",
    "            if data <= self.max_val and data >= self.min_val:\n",
    "                return True\n",
    "        return False\n",
    "    \n",
    "    def bool_val(self, field):\n",
    "        if type(self.data[field]) == self.type[self.fields.index(field)]:\n",
    "            if self.data[field] == self.state:\n",
    "                return True\n",
    "        return False\n"
   ]
  },
  {
   "cell_type": "code",
   "execution_count": 33,
   "id": "43ad6b1a",
   "metadata": {},
   "outputs": [],
   "source": [
    "rules = {\"fields\": [\"name\", \"age\", \"local\"],\n",
    "         \"type\": [str, int, bool],\n",
    "         \"max_val\": 20,\n",
    "         \"min_val\": 10,\n",
    "         \"max_len\": 20,\n",
    "         \"min_len\": 2,\n",
    "         \"state\": True\n",
    "        }"
   ]
  },
  {
   "cell_type": "code",
   "execution_count": 38,
   "id": "6f61d78a",
   "metadata": {},
   "outputs": [],
   "source": [
    "d = {\n",
    "    \"age\": \"Joe\",\n",
    "    \"name\": 32,\n",
    "    \"local\": True\n",
    "}"
   ]
  },
  {
   "cell_type": "code",
   "execution_count": 39,
   "id": "44ebba1f",
   "metadata": {},
   "outputs": [],
   "source": [
    "data = Validator(d, rules)"
   ]
  },
  {
   "cell_type": "code",
   "execution_count": 40,
   "id": "b5eac172",
   "metadata": {},
   "outputs": [
    {
     "data": {
      "text/plain": [
       "False"
      ]
     },
     "execution_count": 40,
     "metadata": {},
     "output_type": "execute_result"
    }
   ],
   "source": [
    "data.string_val(\"name\")"
   ]
  },
  {
   "cell_type": "code",
   "execution_count": 41,
   "id": "c17514af",
   "metadata": {},
   "outputs": [],
   "source": [
    "d = {\n",
    "    \"name\": \"Joe\",\n",
    "    \"age\": 32,\n",
    "    \"local\": True\n",
    "}"
   ]
  },
  {
   "cell_type": "code",
   "execution_count": 42,
   "id": "3f6a953f",
   "metadata": {},
   "outputs": [
    {
     "data": {
      "text/plain": [
       "True"
      ]
     },
     "execution_count": 42,
     "metadata": {},
     "output_type": "execute_result"
    }
   ],
   "source": [
    "data = Validator(d, rules)\n",
    "data.string_val(\"name\")"
   ]
  },
  {
   "cell_type": "code",
   "execution_count": 43,
   "id": "6df194c8",
   "metadata": {},
   "outputs": [
    {
     "data": {
      "text/plain": [
       "False"
      ]
     },
     "execution_count": 43,
     "metadata": {},
     "output_type": "execute_result"
    }
   ],
   "source": [
    "data.int_val('age')"
   ]
  },
  {
   "cell_type": "code",
   "execution_count": 44,
   "id": "2b82efcb",
   "metadata": {},
   "outputs": [
    {
     "data": {
      "text/plain": [
       "True"
      ]
     },
     "execution_count": 44,
     "metadata": {},
     "output_type": "execute_result"
    }
   ],
   "source": [
    "data.bool_val('local')"
   ]
  },
  {
   "cell_type": "code",
   "execution_count": 24,
   "id": "cf5a9f6c",
   "metadata": {},
   "outputs": [
    {
     "name": "stderr",
     "output_type": "stream",
     "text": [
      "warning: LF will be replaced by CRLF in .ipynb_checkpoints/General Data Dict Validator-checkpoint.ipynb.\n",
      "The file will have its original line endings in your working directory\n",
      "warning: LF will be replaced by CRLF in General Data Dict Validator.ipynb.\n",
      "The file will have its original line endings in your working directory\n"
     ]
    }
   ],
   "source": [
    "! git add ."
   ]
  },
  {
   "cell_type": "code",
   "execution_count": 25,
   "id": "e125ba5b",
   "metadata": {},
   "outputs": [
    {
     "name": "stdout",
     "output_type": "stream",
     "text": [
      "[main f08f5a7] Created validation class\n",
      " 2 files changed, 527 insertions(+), 4 deletions(-)\n"
     ]
    }
   ],
   "source": [
    "! git commit -m \"Created validation class\""
   ]
  },
  {
   "cell_type": "code",
   "execution_count": 27,
   "id": "b30cd428",
   "metadata": {},
   "outputs": [],
   "source": [
    "# ! git push"
   ]
  },
  {
   "cell_type": "markdown",
   "id": "da7ef152",
   "metadata": {},
   "source": [
    "# ANOTHER WAY"
   ]
  },
  {
   "cell_type": "code",
   "execution_count": 44,
   "id": "bc3a7c79",
   "metadata": {},
   "outputs": [],
   "source": [
    "rules = {\"name\": [str, 20, 2] , \"age\": [int, 20, 10] , \"local\": [bool, True]}"
   ]
  },
  {
   "cell_type": "code",
   "execution_count": 46,
   "id": "3da26ae0",
   "metadata": {},
   "outputs": [
    {
     "data": {
      "text/plain": [
       "[str, 20, 2]"
      ]
     },
     "execution_count": 46,
     "metadata": {},
     "output_type": "execute_result"
    }
   ],
   "source": [
    "rules['name']"
   ]
  },
  {
   "cell_type": "code",
   "execution_count": 49,
   "id": "8f517ea9",
   "metadata": {},
   "outputs": [],
   "source": [
    "class Validator:\n",
    "    \n",
    "    \n",
    "    def __init__(self, data, rules):\n",
    "        self.data = data\n",
    "        self.rules = rules\n",
    "        \n",
    "    def string_val(self, field):\n",
    "        d = self.data[field]\n",
    "        if type(d) == self.rules[field][0]:\n",
    "            if len(d) <= self.rules[field][1]  and len(d) >= self.rules[field][2] :\n",
    "                return True\n",
    "        return False\n",
    "    \n",
    "    def int_val(self, field):\n",
    "        d = self.data[field]\n",
    "        if type(data) == self.rules[field][0]:\n",
    "            if data <= self.rules[field][1] and data >= self.rules[field][2]:\n",
    "                return True\n",
    "        return False\n",
    "    \n",
    "    def bool_val(self, field):\n",
    "        if type(self.data[field]) == self.rules[field][0]:\n",
    "            if self.data[field] == self.rules[field][1]:\n",
    "                return True\n",
    "        return False"
   ]
  },
  {
   "cell_type": "code",
   "execution_count": 50,
   "id": "5ed0816e",
   "metadata": {},
   "outputs": [],
   "source": [
    "d = {\n",
    "    \"name\": \"Joe\",\n",
    "    \"age\": 32,\n",
    "    \"local\": True\n",
    "}"
   ]
  },
  {
   "cell_type": "code",
   "execution_count": 51,
   "id": "19b141e7",
   "metadata": {},
   "outputs": [
    {
     "data": {
      "text/plain": [
       "True"
      ]
     },
     "execution_count": 51,
     "metadata": {},
     "output_type": "execute_result"
    }
   ],
   "source": [
    "data = Validator(d, rules)\n",
    "data.string_val(\"name\")"
   ]
  },
  {
   "cell_type": "code",
   "execution_count": 52,
   "id": "f738af1a",
   "metadata": {},
   "outputs": [],
   "source": [
    "d = {\n",
    "    \"age\": \"Joe\",\n",
    "    \"name\": 32,\n",
    "    \"local\": True\n",
    "}"
   ]
  },
  {
   "cell_type": "code",
   "execution_count": 53,
   "id": "0bb38250",
   "metadata": {},
   "outputs": [
    {
     "data": {
      "text/plain": [
       "False"
      ]
     },
     "execution_count": 53,
     "metadata": {},
     "output_type": "execute_result"
    }
   ],
   "source": [
    "data = Validator(d, rules)\n",
    "data.string_val(\"name\")"
   ]
  },
  {
   "cell_type": "code",
   "execution_count": null,
   "id": "7ae64c64",
   "metadata": {},
   "outputs": [],
   "source": []
  }
 ],
 "metadata": {
  "kernelspec": {
   "display_name": "Python 3 (ipykernel)",
   "language": "python",
   "name": "python3"
  },
  "language_info": {
   "codemirror_mode": {
    "name": "ipython",
    "version": 3
   },
   "file_extension": ".py",
   "mimetype": "text/x-python",
   "name": "python",
   "nbconvert_exporter": "python",
   "pygments_lexer": "ipython3",
   "version": "3.9.12"
  },
  "vscode": {
   "interpreter": {
    "hash": "8363382bec60bc734d11fa82e76d0abc9187cda3859b488c98208730943e58df"
   }
  }
 },
 "nbformat": 4,
 "nbformat_minor": 5
}
