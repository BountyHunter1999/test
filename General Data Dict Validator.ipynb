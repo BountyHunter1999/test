{
 "cells": [
  {
   "cell_type": "code",
   "execution_count": 1,
   "id": "e0f7d206",
   "metadata": {},
   "outputs": [],
   "source": [
    "d = {\n",
    "    \"name\": \"Joe\",\n",
    "    \"age\": 19,\n",
    "    \"local\": True\n",
    "}"
   ]
  },
  {
   "cell_type": "code",
   "execution_count": 2,
   "id": "40f5ff74",
   "metadata": {},
   "outputs": [],
   "source": [
    "d1 = {\n",
    "    \"name\": \"Dave\",\n",
    "    \"age\": 22,\n",
    "    \"local\": True\n",
    "}"
   ]
  },
  {
   "cell_type": "code",
   "execution_count": 3,
   "id": "a4d81e78",
   "metadata": {},
   "outputs": [],
   "source": [
    "rules = {\"age\": {'max_val_num': 20, 'min_val_num': 2},\n",
    "        \"name\": {'max_len': 12, 'min_len': 2},\n",
    "        'local': True\n",
    "        }"
   ]
  },
  {
   "cell_type": "code",
   "execution_count": 4,
   "id": "4f7a103d",
   "metadata": {},
   "outputs": [],
   "source": [
    "def validator(d: dict, rules: dict) -> bool:\n",
    "    age = d['age'] \n",
    "    name = d['name']\n",
    "    local = d['local']\n",
    "    \n",
    "    # type validation\n",
    "    if type(age) == int and type(name) == str and type(local) == bool:\n",
    "        print(\"type validated\")\n",
    "        # age validation\n",
    "        age_val = list(rules['age'].values())\n",
    "        if age <= age_val[0] and age >= age_val[1]:\n",
    "            print(\"Age validated\")\n",
    "            \n",
    "            # name validation\n",
    "            name_val = list(rules['name'].values())\n",
    "            if len(name) <= name_val[0] and len(name) >= name_val[1]:\n",
    "                print(\"name validated\")\n",
    "                # local validation\n",
    "                if rules['local'] == local:\n",
    "                    print(\"local validated\")\n",
    "\n",
    "                    return True\n",
    "    \n",
    "    return False"
   ]
  },
  {
   "cell_type": "code",
   "execution_count": 5,
   "id": "5f7dee44",
   "metadata": {},
   "outputs": [
    {
     "name": "stdout",
     "output_type": "stream",
     "text": [
      "type validated\n"
     ]
    },
    {
     "data": {
      "text/plain": [
       "False"
      ]
     },
     "execution_count": 5,
     "metadata": {},
     "output_type": "execute_result"
    }
   ],
   "source": [
    "validator(d1, rules)"
   ]
  },
  {
   "cell_type": "code",
   "execution_count": 6,
   "id": "fcd3e59e",
   "metadata": {},
   "outputs": [
    {
     "name": "stdout",
     "output_type": "stream",
     "text": [
      "type validated\n",
      "Age validated\n",
      "name validated\n",
      "local validated\n"
     ]
    },
    {
     "data": {
      "text/plain": [
       "True"
      ]
     },
     "execution_count": 6,
     "metadata": {},
     "output_type": "execute_result"
    }
   ],
   "source": [
    "validator(d, rules)"
   ]
  },
  {
   "cell_type": "code",
   "execution_count": null,
   "id": "725a7c11",
   "metadata": {},
   "outputs": [],
   "source": []
  }
 ],
 "metadata": {
  "kernelspec": {
   "display_name": "Python 3 (ipykernel)",
   "language": "python",
   "name": "python3"
  },
  "language_info": {
   "codemirror_mode": {
    "name": "ipython",
    "version": 3
   },
   "file_extension": ".py",
   "mimetype": "text/x-python",
   "name": "python",
   "nbconvert_exporter": "python",
   "pygments_lexer": "ipython3",
   "version": "3.8.13"
  },
  "vscode": {
   "interpreter": {
    "hash": "8363382bec60bc734d11fa82e76d0abc9187cda3859b488c98208730943e58df"
   }
  }
 },
 "nbformat": 4,
 "nbformat_minor": 5
}
