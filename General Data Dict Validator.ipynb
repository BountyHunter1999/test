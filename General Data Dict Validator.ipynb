{
 "cells": [
  {
   "cell_type": "code",
   "execution_count": 1,
   "id": "e0f7d206",
   "metadata": {},
   "outputs": [],
   "source": [
    "d = {\n",
    "    \"name\": \"Joe\",\n",
    "    \"age\": 19,\n",
    "    \"local\": True\n",
    "}"
   ]
  },
  {
   "cell_type": "code",
   "execution_count": 2,
   "id": "40f5ff74",
   "metadata": {},
   "outputs": [],
   "source": [
    "d1 = {\n",
    "    \"name\": \"Dave\",\n",
    "    \"age\": 22,\n",
    "    \"local\": True\n",
    "}"
   ]
  },
  {
   "cell_type": "code",
   "execution_count": 3,
   "id": "a4d81e78",
   "metadata": {},
   "outputs": [],
   "source": [
    "rules = {\"age\": {'max_val_num': 20, 'min_val_num': 2},\n",
    "        \"name\": {'max_len': 12, 'min_len': 2},\n",
    "        'local': True\n",
    "        }"
   ]
  },
  {
   "cell_type": "code",
   "execution_count": 4,
   "id": "4f7a103d",
   "metadata": {},
   "outputs": [],
   "source": [
    "def validator(d: dict, rules: dict) -> bool:\n",
    "    age = d['age'] \n",
    "    name = d['name']\n",
    "    local = d['local']\n",
    "    \n",
    "    # type validation\n",
    "    if type(age) == int and type(name) == str and type(local) == bool:\n",
    "        print(\"type validated\")\n",
    "        # age validation\n",
    "        age_val = list(rules['age'].values())\n",
    "        if age <= age_val[0] and age >= age_val[1]:\n",
    "            print(\"Age validated\")\n",
    "            \n",
    "            # name validation\n",
    "            name_val = list(rules['name'].values())\n",
    "            if len(name) <= name_val[0] and len(name) >= name_val[1]:\n",
    "                print(\"name validated\")\n",
    "                # local validation\n",
    "                if rules['local'] == local:\n",
    "                    print(\"local validated\")\n",
    "\n",
    "                    return True\n",
    "    \n",
    "    return False"
   ]
  },
  {
   "cell_type": "code",
   "execution_count": 5,
   "id": "5f7dee44",
   "metadata": {},
   "outputs": [
    {
     "name": "stdout",
     "output_type": "stream",
     "text": [
      "type validated\n"
     ]
    },
    {
     "data": {
      "text/plain": [
       "False"
      ]
     },
     "execution_count": 5,
     "metadata": {},
     "output_type": "execute_result"
    }
   ],
   "source": [
    "validator(d1, rules)"
   ]
  },
  {
   "cell_type": "code",
   "execution_count": 6,
   "id": "fcd3e59e",
   "metadata": {},
   "outputs": [
    {
     "name": "stdout",
     "output_type": "stream",
     "text": [
      "type validated\n",
      "Age validated\n",
      "name validated\n",
      "local validated\n"
     ]
    },
    {
     "data": {
      "text/plain": [
       "True"
      ]
     },
     "execution_count": 6,
     "metadata": {},
     "output_type": "execute_result"
    }
   ],
   "source": [
    "validator(d, rules)"
   ]
  },
  {
   "cell_type": "code",
   "execution_count": 18,
   "id": "725a7c11",
   "metadata": {},
   "outputs": [],
   "source": [
    "def string_val(data, max_val = 20, min_val = 10):\n",
    "    if type(data) == str:\n",
    "        if len(name) <= max_val and len(name) >= min_val:\n",
    "            return True\n",
    "    return False"
   ]
  },
  {
   "cell_type": "code",
   "execution_count": 19,
   "id": "805b77d8",
   "metadata": {},
   "outputs": [
    {
     "data": {
      "text/plain": [
       "8"
      ]
     },
     "execution_count": 19,
     "metadata": {},
     "output_type": "execute_result"
    }
   ],
   "source": [
    "max([2,4,8, 1])"
   ]
  },
  {
   "cell_type": "code",
   "execution_count": 20,
   "id": "f7455f01",
   "metadata": {},
   "outputs": [],
   "source": [
    "def int_val(data, max_val = 20, min_val = 10):\n",
    "    if type(data) == int:\n",
    "        if data <= max_val and data >= min_val:\n",
    "            return True\n",
    "    return False"
   ]
  },
  {
   "cell_type": "code",
   "execution_count": 21,
   "id": "5121762b",
   "metadata": {},
   "outputs": [],
   "source": [
    "def bool_val(data, state):\n",
    "    if type(data) == bool:\n",
    "        if data == state:\n",
    "            return True\n",
    "    return False"
   ]
  },
  {
   "cell_type": "code",
   "execution_count": 22,
   "id": "eca0e4fd",
   "metadata": {},
   "outputs": [],
   "source": []
  },
  {
   "cell_type": "code",
   "execution_count": 7,
   "id": "3633ee49",
   "metadata": {},
   "outputs": [],
   "source": [
    "class Validator:\n",
    "    \n",
    "    \n",
    "    def __init__(self, data, rule):\n",
    "        self.data = data\n",
    "        self.min_val = rule['min_val']\n",
    "        self.max_val = rule['max_val']\n",
    "        self.min_len = rule['min_len']\n",
    "        self.max_len = rule['max_len']\n",
    "        self.state = rule['state']\n",
    "        self.fields = rule['fields']\n",
    "        self.type = rule['type']\n",
    "        \n",
    "    def string_val(self, field):\n",
    "        d = self.data[field]\n",
    "        if type(d) == self.type[self.fields.index(field)]:\n",
    "            if len(d) <= self.max_len  and len(d) >= self.min_len :\n",
    "                return True\n",
    "        return False\n",
    "    \n",
    "    def int_val(self, field):\n",
    "        d = self.data[field]\n",
    "        if type(data) == self.type[self.fields.index(field)]:\n",
    "            if data <= self.max_val and data >= self.min_val:\n",
    "                return True\n",
    "        return False\n",
    "    \n",
    "    def bool_val(self, field):\n",
    "        if type(self.data[field]) == self.type[self.fields.index(field)]:\n",
    "            if self.data[field] == self.state:\n",
    "                return True\n",
    "        return False\n"
   ]
  },
  {
   "cell_type": "code",
   "execution_count": 33,
   "id": "43ad6b1a",
   "metadata": {},
   "outputs": [],
   "source": [
    "rules = {\"fields\": [\"name\", \"age\", \"local\"],\n",
    "         \"type\": [str, int, bool],\n",
    "         \"max_val\": 20,\n",
    "         \"min_val\": 10,\n",
    "         \"max_len\": 20,\n",
    "         \"min_len\": 2,\n",
    "         \"state\": True\n",
    "        }"
   ]
  },
  {
   "cell_type": "code",
   "execution_count": 38,
   "id": "6f61d78a",
   "metadata": {},
   "outputs": [],
   "source": [
    "d = {\n",
    "    \"age\": \"Joe\",\n",
    "    \"name\": 32,\n",
    "    \"local\": True\n",
    "}"
   ]
  },
  {
   "cell_type": "code",
   "execution_count": 39,
   "id": "44ebba1f",
   "metadata": {},
   "outputs": [],
   "source": [
    "data = Validator(d, rules)"
   ]
  },
  {
   "cell_type": "code",
   "execution_count": 40,
   "id": "b5eac172",
   "metadata": {},
   "outputs": [
    {
     "data": {
      "text/plain": [
       "False"
      ]
     },
     "execution_count": 40,
     "metadata": {},
     "output_type": "execute_result"
    }
   ],
   "source": [
    "data.string_val(\"name\")"
   ]
  },
  {
   "cell_type": "code",
   "execution_count": 41,
   "id": "c17514af",
   "metadata": {},
   "outputs": [],
   "source": [
    "d = {\n",
    "    \"name\": \"Joe\",\n",
    "    \"age\": 32,\n",
    "    \"local\": True\n",
    "}"
   ]
  },
  {
   "cell_type": "code",
   "execution_count": 42,
   "id": "3f6a953f",
   "metadata": {},
   "outputs": [
    {
     "data": {
      "text/plain": [
       "True"
      ]
     },
     "execution_count": 42,
     "metadata": {},
     "output_type": "execute_result"
    }
   ],
   "source": [
    "data = Validator(d, rules)\n",
    "data.string_val(\"name\")"
   ]
  },
  {
   "cell_type": "code",
   "execution_count": 43,
   "id": "6df194c8",
   "metadata": {},
   "outputs": [
    {
     "data": {
      "text/plain": [
       "False"
      ]
     },
     "execution_count": 43,
     "metadata": {},
     "output_type": "execute_result"
    }
   ],
   "source": [
    "data.int_val('age')"
   ]
  },
  {
   "cell_type": "code",
   "execution_count": 44,
   "id": "2b82efcb",
   "metadata": {},
   "outputs": [
    {
     "data": {
      "text/plain": [
       "True"
      ]
     },
     "execution_count": 44,
     "metadata": {},
     "output_type": "execute_result"
    }
   ],
   "source": [
    "data.bool_val('local')"
   ]
  },
  {
   "cell_type": "code",
   "execution_count": 24,
   "id": "cf5a9f6c",
   "metadata": {},
   "outputs": [
    {
     "name": "stderr",
     "output_type": "stream",
     "text": [
      "warning: LF will be replaced by CRLF in .ipynb_checkpoints/General Data Dict Validator-checkpoint.ipynb.\n",
      "The file will have its original line endings in your working directory\n",
      "warning: LF will be replaced by CRLF in General Data Dict Validator.ipynb.\n",
      "The file will have its original line endings in your working directory\n"
     ]
    }
   ],
   "source": [
    "! git add ."
   ]
  },
  {
   "cell_type": "code",
   "execution_count": 25,
   "id": "e125ba5b",
   "metadata": {},
   "outputs": [
    {
     "name": "stdout",
     "output_type": "stream",
     "text": [
      "[main f08f5a7] Created validation class\n",
      " 2 files changed, 527 insertions(+), 4 deletions(-)\n"
     ]
    }
   ],
   "source": [
    "! git commit -m \"Created validation class\""
   ]
  },
  {
   "cell_type": "code",
   "execution_count": 27,
   "id": "b30cd428",
   "metadata": {},
   "outputs": [],
   "source": [
    "# ! git push"
   ]
  },
  {
   "cell_type": "code",
   "execution_count": 35,
   "id": "bc3a7c79",
   "metadata": {},
   "outputs": [],
   "source": [
    "rules = {\"fields\": {\"name\": str, \"age\": int, \"local\": bool},\n",
    "         \"max_val\": 20,\n",
    "         \"min_val\": 10,\n",
    "         \"max_len\": 20,\n",
    "         \"min_len\": 2,\n",
    "         \"state\": True\n",
    "        }"
   ]
  },
  {
   "cell_type": "code",
   "execution_count": 36,
   "id": "94b051c3",
   "metadata": {},
   "outputs": [
    {
     "data": {
      "text/plain": [
       "{'name': str, 'age': int, 'local': bool}"
      ]
     },
     "execution_count": 36,
     "metadata": {},
     "output_type": "execute_result"
    }
   ],
   "source": [
    "rules['fields']"
   ]
  },
  {
   "cell_type": "code",
   "execution_count": 37,
   "id": "399a6b05",
   "metadata": {},
   "outputs": [],
   "source": [
    "class Validator:\n",
    "    \n",
    "    \n",
    "    def __init__(self, data, rule):\n",
    "        self.data = data\n",
    "        self.min_val = rule['min_val']\n",
    "        self.max_val = rule['max_val']\n",
    "        self.min_len = rule['min_len']\n",
    "        self.max_len = rule['max_len']\n",
    "        self.state = rule['state']\n",
    "        self.fields = rule['fields']\n",
    "        \n",
    "    def string_val(self, field):\n",
    "        d = self.data[field]\n",
    "        if type(d) == self.fields[field]:\n",
    "            if len(d) <= self.max_len  and len(d) >= self.min_len :\n",
    "                return True\n",
    "        return False\n",
    "    \n",
    "    def int_val(self, field):\n",
    "        d = self.data[field]\n",
    "        if type(data) == self.fields[field]:\n",
    "            if data <= self.max_val and data >= self.min_val:\n",
    "                return True\n",
    "        return False\n",
    "    \n",
    "    def bool_val(self, field):\n",
    "        if type(self.data[field]) == self.fields[field]:\n",
    "            if self.data[field] == self.state:\n",
    "                return True\n",
    "        return False"
   ]
  },
  {
   "cell_type": "code",
   "execution_count": 39,
   "id": "8ab1f3e5",
   "metadata": {},
   "outputs": [],
   "source": [
    "d = {\n",
    "    \"name\": \"Joe\",\n",
    "    \"age\": 32,\n",
    "    \"local\": True\n",
    "}"
   ]
  },
  {
   "cell_type": "code",
   "execution_count": 38,
   "id": "43fdfd52",
   "metadata": {},
   "outputs": [
    {
     "data": {
      "text/plain": [
       "True"
      ]
     },
     "execution_count": 38,
     "metadata": {},
     "output_type": "execute_result"
    }
   ],
   "source": [
    "data = Validator(d, rules)\n",
    "data.string_val(\"name\")"
   ]
  },
  {
   "cell_type": "code",
   "execution_count": null,
   "id": "6ba2714e",
   "metadata": {},
   "outputs": [],
   "source": []
  }
 ],
 "metadata": {
  "kernelspec": {
   "display_name": "Python 3 (ipykernel)",
   "language": "python",
   "name": "python3"
  },
  "language_info": {
   "codemirror_mode": {
    "name": "ipython",
    "version": 3
   },
   "file_extension": ".py",
   "mimetype": "text/x-python",
   "name": "python",
   "nbconvert_exporter": "python",
   "pygments_lexer": "ipython3",
   "version": "3.9.12"
  },
  "vscode": {
   "interpreter": {
    "hash": "8363382bec60bc734d11fa82e76d0abc9187cda3859b488c98208730943e58df"
   }
  }
 },
 "nbformat": 4,
 "nbformat_minor": 5
}
