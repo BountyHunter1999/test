{
 "cells": [
  {
   "cell_type": "code",
   "execution_count": 5,
   "id": "d7582fe1",
   "metadata": {},
   "outputs": [],
   "source": [
    "num = [int, float]"
   ]
  },
  {
   "cell_type": "code",
   "execution_count": 6,
   "id": "4a97c774",
   "metadata": {},
   "outputs": [
    {
     "data": {
      "text/plain": [
       "[0, 2, 4, 6, 8]"
      ]
     },
     "execution_count": 6,
     "metadata": {},
     "output_type": "execute_result"
    }
   ],
   "source": [
    "[ x for x in range(0, 10, 2)]"
   ]
  },
  {
   "cell_type": "code",
   "execution_count": 7,
   "id": "3f661c12",
   "metadata": {},
   "outputs": [],
   "source": [
    "x = 2"
   ]
  },
  {
   "cell_type": "code",
   "execution_count": 8,
   "id": "23d92b35",
   "metadata": {},
   "outputs": [
    {
     "data": {
      "text/plain": [
       "[0, 2, 4, 6, 8]"
      ]
     },
     "execution_count": 8,
     "metadata": {},
     "output_type": "execute_result"
    }
   ],
   "source": [
    "[i for i in range(0, 10, 2)]"
   ]
  },
  {
   "cell_type": "code",
   "execution_count": 9,
   "id": "112806c3",
   "metadata": {},
   "outputs": [],
   "source": [
    "# all([eval(rules['even']) for x in range(0, 10, 2)])"
   ]
  },
  {
   "cell_type": "code",
   "execution_count": 58,
   "id": "b7139713",
   "metadata": {},
   "outputs": [
    {
     "data": {
      "text/plain": [
       "type"
      ]
     },
     "execution_count": 58,
     "metadata": {},
     "output_type": "execute_result"
    }
   ],
   "source": [
    "type(int)"
   ]
  },
  {
   "cell_type": "code",
   "execution_count": 25,
   "id": "19f3117e",
   "metadata": {},
   "outputs": [],
   "source": [
    "# class list(list):\n",
    "    \n",
    "#     def __ge__(self, y):\n",
    "#         if len(self) >= y:\n",
    "#             return True\n",
    "    \n",
    "#     def __le__(self, y):\n",
    "#         if len(self) <= y:\n",
    "#             return True"
   ]
  },
  {
   "cell_type": "code",
   "execution_count": 26,
   "id": "a1ca83ca",
   "metadata": {},
   "outputs": [
    {
     "data": {
      "text/plain": [
       "True"
      ]
     },
     "execution_count": 26,
     "metadata": {},
     "output_type": "execute_result"
    }
   ],
   "source": [
    "[2, 3, 4] >= [2, 3]"
   ]
  },
  {
   "cell_type": "code",
   "execution_count": 41,
   "id": "0446947c",
   "metadata": {},
   "outputs": [],
   "source": [
    "# class str(str):\n",
    "    \n",
    "#     def __ge__(self, y):\n",
    "#         if len(self) >= y:\n",
    "#             print(y, type(y))\n",
    "#             return True\n",
    "    \n",
    "#     def __le__(self, y):\n",
    "#         if len(self) <= y:\n",
    "#             return True"
   ]
  },
  {
   "cell_type": "code",
   "execution_count": 2,
   "id": "be63e975",
   "metadata": {},
   "outputs": [],
   "source": [
    "d = {\"l\": [1, 2, 3, 4], \"s\": \"sistanem\", 'n': 23, 'b': True}"
   ]
  },
  {
   "cell_type": "code",
   "execution_count": 3,
   "id": "a6fc66bc",
   "metadata": {},
   "outputs": [],
   "source": [
    "rules = {\"num\": {'max_val_num': 12, 'min_val_num': 2},\n",
    "        \"arr\": {'max_len': 12, 'min_len': 2},\n",
    "         'bool': True\n",
    "        }"
   ]
  },
  {
   "cell_type": "code",
   "execution_count": 4,
   "id": "09f8deab",
   "metadata": {},
   "outputs": [],
   "source": [
    "l = [1, 2, 3]"
   ]
  },
  {
   "cell_type": "code",
   "execution_count": 5,
   "id": "c5d0ab20",
   "metadata": {},
   "outputs": [
    {
     "data": {
      "text/plain": [
       "(list, True)"
      ]
     },
     "execution_count": 5,
     "metadata": {},
     "output_type": "execute_result"
    }
   ],
   "source": [
    "type(l), type(l) == list"
   ]
  },
  {
   "cell_type": "code",
   "execution_count": 6,
   "id": "ef9a1616",
   "metadata": {},
   "outputs": [],
   "source": [
    "def validator(d: dict, rules: dict) -> bool:\n",
    "    des = {}\n",
    "    for n, i in d.items():\n",
    "        rule = list(rules['arr'].values())\n",
    "        if type(i) == type(\"a\") or type(i) == type([]):\n",
    "            des[n] = len(i) <= rule[0]  and len(i) >= rule[1]\n",
    "        if type(i) == type(1) or type(i) == type(1.0):\n",
    "            des[n] = i <= rule[0] and i >= rule[1]\n",
    "        if type(i) == type(1==1):\n",
    "            des[n] = True\n",
    "\n",
    "    return all(list(des.values()))"
   ]
  },
  {
   "cell_type": "code",
   "execution_count": 7,
   "id": "4fe974f5",
   "metadata": {},
   "outputs": [
    {
     "data": {
      "text/plain": [
       "False"
      ]
     },
     "execution_count": 7,
     "metadata": {},
     "output_type": "execute_result"
    }
   ],
   "source": [
    "validator(d, rules)"
   ]
  },
  {
   "cell_type": "code",
   "execution_count": 8,
   "id": "08dfad95",
   "metadata": {},
   "outputs": [],
   "source": [
    "d1 = {\"l\": [5, 2, 3, 4], \"s\": \"sistanem\", 'n': 2, 'b': True}"
   ]
  },
  {
   "cell_type": "code",
   "execution_count": 9,
   "id": "67cad501",
   "metadata": {},
   "outputs": [
    {
     "data": {
      "text/plain": [
       "True"
      ]
     },
     "execution_count": 9,
     "metadata": {},
     "output_type": "execute_result"
    }
   ],
   "source": [
    "validator(d1, rules)"
   ]
  },
  {
   "cell_type": "code",
   "execution_count": null,
   "id": "7ec8ac88",
   "metadata": {},
   "outputs": [],
   "source": []
  }
 ],
 "metadata": {
  "kernelspec": {
   "display_name": "Python 3 (ipykernel)",
   "language": "python",
   "name": "python3"
  },
  "language_info": {
   "codemirror_mode": {
    "name": "ipython",
    "version": 3
   },
   "file_extension": ".py",
   "mimetype": "text/x-python",
   "name": "python",
   "nbconvert_exporter": "python",
   "pygments_lexer": "ipython3",
   "version": "3.9.12"
  },
  "vscode": {
   "interpreter": {
    "hash": "8363382bec60bc734d11fa82e76d0abc9187cda3859b488c98208730943e58df"
   }
  }
 },
 "nbformat": 4,
 "nbformat_minor": 5
}
