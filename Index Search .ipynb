{
 "cells": [
  {
   "cell_type": "code",
   "execution_count": 16,
   "id": "97004c0d",
   "metadata": {},
   "outputs": [],
   "source": [
    "l = \"\"\"\n",
    "    Take a list of sentences.\n",
    "Make a function that takes a search term (a single word) and returns the sentences containing the search term.\n",
    "There could be millions of sentences so it should not loop every time the search function is called.\n",
    " \n",
    "Loop ekchoti chai garna milchha program bhari. Tyo search function jati choti call garyo tyati choti chai mildaina.\n",
    "\"\"\""
   ]
  },
  {
   "cell_type": "code",
   "execution_count": 17,
   "id": "66c515d0",
   "metadata": {
    "scrolled": true
   },
   "outputs": [
    {
     "data": {
      "text/plain": [
       "'\\n    Take a list of sentences.\\nMake a function that takes a search term (a single word) and returns the sentences containing the search term.\\nThere could be millions of sentences so it should not loop every time the search function is called.\\n \\nLoop ekchoti chai garna milchha program bhari. Tyo search function jati choti call garyo tyati choti chai mildaina.\\n'"
      ]
     },
     "execution_count": 17,
     "metadata": {},
     "output_type": "execute_result"
    }
   ],
   "source": [
    "l"
   ]
  },
  {
   "cell_type": "code",
   "execution_count": 18,
   "id": "4108fc3c",
   "metadata": {
    "scrolled": true
   },
   "outputs": [
    {
     "data": {
      "text/plain": [
       "['Take a list of sentences.',\n",
       " 'Make a function that takes a search term (a single word) and returns the sentences containing the search term.',\n",
       " 'There could be millions of sentences so it should not loop every time the search function is called.',\n",
       " 'Loop ekchoti chai garna milchha program bhari. Tyo search function jati choti call garyo tyati choti chai mildaina.']"
      ]
     },
     "execution_count": 18,
     "metadata": {},
     "output_type": "execute_result"
    }
   ],
   "source": [
    "l = l.strip().split(\"\\n\")\n",
    "l = [i for i in l if i != \" \"]\n",
    "l"
   ]
  },
  {
   "cell_type": "code",
   "execution_count": 43,
   "id": "ec7d5cca",
   "metadata": {},
   "outputs": [],
   "source": [
    "l =['Take a list of sentences.',\n",
    " 'Make a function that takes a search term, a single word , and returns the sentences containing the search term',\n",
    " 'There could be millions of sentences so it should not loop every time the search function is called',\n",
    " 'Loop ekchoti chai garna milchha program bhari. Tyo search function jati choti call garyo tyati choti chai mildaina']"
   ]
  },
  {
   "cell_type": "code",
   "execution_count": 59,
   "id": "b104c77c",
   "metadata": {},
   "outputs": [
    {
     "data": {
      "text/plain": [
       "False"
      ]
     },
     "execution_count": 59,
     "metadata": {},
     "output_type": "execute_result"
    }
   ],
   "source": [
    "\",\".isalpha()"
   ]
  },
  {
   "cell_type": "code",
   "execution_count": 73,
   "id": "e9f8dfcd",
   "metadata": {},
   "outputs": [],
   "source": [
    "from collections import Counter"
   ]
  },
  {
   "cell_type": "code",
   "execution_count": 86,
   "id": "750dfbb8",
   "metadata": {},
   "outputs": [
    {
     "data": {
      "text/plain": [
       "{'take': 1, 'a': 1, 'list': 1, 'of': 1, 'sentences': 1}"
      ]
     },
     "execution_count": 86,
     "metadata": {},
     "output_type": "execute_result"
    }
   ],
   "source": [
    "dict(Counter(l[0].lower().replace(\".\", \"\").split()))"
   ]
  },
  {
   "cell_type": "code",
   "execution_count": 66,
   "id": "e5a84054",
   "metadata": {},
   "outputs": [
    {
     "name": "stdout",
     "output_type": "stream",
     "text": [
      "Take a list of sentences.\n",
      "Make a function that takes a search term, a single word , and returns the sentences containing the search term.\n",
      "There could be millions of sentences so it should not loop every time the search function is called.\n",
      "Loop ekchoti chai garna milchha program bhari. Tyo search function jati choti call garyo tyati choti chai mildaina.\n"
     ]
    }
   ],
   "source": [
    "# d = {}\n",
    "# for i, data in enumerate(l):\n",
    "#     for word in data.split():\n",
    "#         if word not in d.keys() and word not in [\"a\", \"of\", \"the\", \"he\", \"she\", \"they\", \"be\"] and word.isalpha():\n",
    "#             d[word] = d.get(word, []) + [i]"
   ]
  },
  {
   "cell_type": "code",
   "execution_count": 87,
   "id": "bee785d4",
   "metadata": {},
   "outputs": [],
   "source": [
    "d = {\"a\": [1, 2], \"b\": [3, 4]}\n",
    "e = {\"a\": [5, 6], \"b\": [7, 4]}"
   ]
  },
  {
   "cell_type": "code",
   "execution_count": 88,
   "id": "92959dfc",
   "metadata": {},
   "outputs": [
    {
     "data": {
      "text/plain": [
       "{'a': [5, 6], 'b': [7, 4]}"
      ]
     },
     "execution_count": 88,
     "metadata": {},
     "output_type": "execute_result"
    }
   ],
   "source": [
    "d | e"
   ]
  },
  {
   "cell_type": "code",
   "execution_count": 90,
   "id": "701ab72c",
   "metadata": {},
   "outputs": [
    {
     "data": {
      "text/plain": [
       "{'a': [5, 6], 'b': [7, 4]}"
      ]
     },
     "execution_count": 90,
     "metadata": {},
     "output_type": "execute_result"
    }
   ],
   "source": [
    "x = {**d, **e}\n",
    "x"
   ]
  },
  {
   "cell_type": "markdown",
   "id": "aaddb74b",
   "metadata": {},
   "source": [
    "# One Way"
   ]
  },
  {
   "cell_type": "code",
   "execution_count": 97,
   "id": "ebbdd147",
   "metadata": {},
   "outputs": [],
   "source": [
    "l =['Take a list of sentences.',\n",
    " 'Make a function that takes a search term, a single word , and returns the sentences containing the search term',\n",
    " 'There could be millions of sentences so it should not loop every time the search function is called',\n",
    " 'Loop ekchoti chai garna milchha program bhari. Tyo search function jati choti call garyo tyati choti chai mildaina',\n",
    "   \"take make fake\"]"
   ]
  },
  {
   "cell_type": "code",
   "execution_count": 100,
   "id": "f8f3beff",
   "metadata": {},
   "outputs": [],
   "source": [
    "d = {}\n",
    "for i, data in enumerate(l):\n",
    "    for word in data.split():\n",
    "        if word not in [\"a\", \"of\", \"the\", \"he\", \"she\", \"they\", \"be\"] and word.isalpha():\n",
    "            v = word.lower().replace(\".\", \"\")\n",
    "            d[v] = d.get(v, []) + [i]"
   ]
  },
  {
   "cell_type": "code",
   "execution_count": 101,
   "id": "4d9e65b1",
   "metadata": {},
   "outputs": [
    {
     "data": {
      "text/plain": [
       "({'take': [0, 4],\n",
       "  'list': [0],\n",
       "  'make': [1, 4],\n",
       "  'function': [1, 2, 3],\n",
       "  'that': [1],\n",
       "  'takes': [1],\n",
       "  'search': [1, 1, 2, 3],\n",
       "  'single': [1],\n",
       "  'word': [1],\n",
       "  'and': [1],\n",
       "  'returns': [1],\n",
       "  'sentences': [1, 2],\n",
       "  'containing': [1],\n",
       "  'term': [1],\n",
       "  'there': [2],\n",
       "  'could': [2],\n",
       "  'millions': [2],\n",
       "  'so': [2],\n",
       "  'it': [2],\n",
       "  'should': [2],\n",
       "  'not': [2],\n",
       "  'loop': [2, 3],\n",
       "  'every': [2],\n",
       "  'time': [2],\n",
       "  'is': [2],\n",
       "  'called': [2],\n",
       "  'ekchoti': [3],\n",
       "  'chai': [3, 3],\n",
       "  'garna': [3],\n",
       "  'milchha': [3],\n",
       "  'program': [3],\n",
       "  'tyo': [3],\n",
       "  'jati': [3],\n",
       "  'choti': [3, 3],\n",
       "  'call': [3],\n",
       "  'garyo': [3],\n",
       "  'tyati': [3],\n",
       "  'mildaina': [3],\n",
       "  'fake': [4]},\n",
       " 39)"
      ]
     },
     "execution_count": 101,
     "metadata": {},
     "output_type": "execute_result"
    }
   ],
   "source": [
    "d, len(d)"
   ]
  },
  {
   "cell_type": "code",
   "execution_count": 102,
   "id": "bff40b3d",
   "metadata": {},
   "outputs": [],
   "source": [
    "def lookup(word):\n",
    "    places = d[word]\n",
    "    for place in places:\n",
    "        print(l[place])"
   ]
  },
  {
   "cell_type": "code",
   "execution_count": 103,
   "id": "574e1940",
   "metadata": {},
   "outputs": [
    {
     "name": "stdout",
     "output_type": "stream",
     "text": [
      "take make fake\n"
     ]
    }
   ],
   "source": [
    "lookup(\"fake\")"
   ]
  },
  {
   "cell_type": "code",
   "execution_count": 104,
   "id": "f30ff6e4",
   "metadata": {},
   "outputs": [
    {
     "name": "stdout",
     "output_type": "stream",
     "text": [
      "Take a list of sentences.\n",
      "take make fake\n"
     ]
    }
   ],
   "source": [
    "lookup(\"take\")"
   ]
  },
  {
   "cell_type": "markdown",
   "id": "ccdda101",
   "metadata": {},
   "source": [
    "# Another way -- not complete"
   ]
  },
  {
   "cell_type": "code",
   "execution_count": 67,
   "id": "c58524d2",
   "metadata": {},
   "outputs": [
    {
     "data": {
      "text/plain": [
       "{'Take': [0],\n",
       " 'list': [0],\n",
       " 'Make': [1],\n",
       " 'function': [1],\n",
       " 'that': [1],\n",
       " 'takes': [1],\n",
       " 'search': [1],\n",
       " 'single': [1],\n",
       " 'word': [1],\n",
       " 'and': [1],\n",
       " 'returns': [1],\n",
       " 'sentences': [1],\n",
       " 'containing': [1],\n",
       " 'There': [2],\n",
       " 'could': [2],\n",
       " 'millions': [2],\n",
       " 'so': [2],\n",
       " 'it': [2],\n",
       " 'should': [2],\n",
       " 'not': [2],\n",
       " 'loop': [2],\n",
       " 'every': [2],\n",
       " 'time': [2],\n",
       " 'is': [2],\n",
       " 'Loop': [3],\n",
       " 'ekchoti': [3],\n",
       " 'chai': [3],\n",
       " 'garna': [3],\n",
       " 'milchha': [3],\n",
       " 'program': [3],\n",
       " 'Tyo': [3],\n",
       " 'jati': [3],\n",
       " 'choti': [3],\n",
       " 'call': [3],\n",
       " 'garyo': [3],\n",
       " 'tyati': [3]}"
      ]
     },
     "execution_count": 67,
     "metadata": {},
     "output_type": "execute_result"
    }
   ],
   "source": [
    "d = {}\n",
    "for i, data in enumerate(l):\n",
    "    ds = dict(Counter)"
   ]
  },
  {
   "cell_type": "code",
   "execution_count": 94,
   "id": "2eb48da7",
   "metadata": {},
   "outputs": [
    {
     "data": {
      "text/plain": [
       "({'take': [0],\n",
       "  'list': [0],\n",
       "  'make': [1],\n",
       "  'function': [1],\n",
       "  'that': [1],\n",
       "  'takes': [1],\n",
       "  'search': [1],\n",
       "  'single': [1],\n",
       "  'word': [1],\n",
       "  'and': [1],\n",
       "  'returns': [1],\n",
       "  'sentences': [1],\n",
       "  'containing': [1],\n",
       "  'there': [2],\n",
       "  'could': [2],\n",
       "  'millions': [2],\n",
       "  'so': [2],\n",
       "  'it': [2],\n",
       "  'should': [2],\n",
       "  'not': [2],\n",
       "  'loop': [2, 3],\n",
       "  'every': [2],\n",
       "  'time': [2],\n",
       "  'is': [2],\n",
       "  'ekchoti': [3],\n",
       "  'chai': [3],\n",
       "  'garna': [3],\n",
       "  'milchha': [3],\n",
       "  'program': [3],\n",
       "  'tyo': [3],\n",
       "  'jati': [3],\n",
       "  'choti': [3],\n",
       "  'call': [3],\n",
       "  'garyo': [3],\n",
       "  'tyati': [3]},\n",
       " 35)"
      ]
     },
     "execution_count": 94,
     "metadata": {},
     "output_type": "execute_result"
    }
   ],
   "source": [
    "d, len(d)"
   ]
  },
  {
   "cell_type": "code",
   "execution_count": 70,
   "id": "d369d2e5",
   "metadata": {},
   "outputs": [],
   "source": [
    "def lookup(word):\n",
    "    places = d[word]\n",
    "    for place in places:\n",
    "        print(l[place])"
   ]
  },
  {
   "cell_type": "code",
   "execution_count": 71,
   "id": "e0110a38",
   "metadata": {},
   "outputs": [
    {
     "name": "stdout",
     "output_type": "stream",
     "text": [
      "Loop ekchoti chai garna milchha program bhari. Tyo search function jati choti call garyo tyati choti chai mildaina.\n"
     ]
    }
   ],
   "source": [
    "lookup(\"program\")"
   ]
  },
  {
   "cell_type": "code",
   "execution_count": null,
   "id": "bbc73d75",
   "metadata": {},
   "outputs": [],
   "source": []
  }
 ],
 "metadata": {
  "kernelspec": {
   "display_name": "Python 3 (ipykernel)",
   "language": "python",
   "name": "python3"
  },
  "language_info": {
   "codemirror_mode": {
    "name": "ipython",
    "version": 3
   },
   "file_extension": ".py",
   "mimetype": "text/x-python",
   "name": "python",
   "nbconvert_exporter": "python",
   "pygments_lexer": "ipython3",
   "version": "3.9.12"
  }
 },
 "nbformat": 4,
 "nbformat_minor": 5
}
