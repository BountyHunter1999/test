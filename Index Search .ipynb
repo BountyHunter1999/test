{
 "cells": [
  {
   "cell_type": "markdown",
   "id": "8778fc98",
   "metadata": {},
   "source": [
    "# One Way"
   ]
  },
  {
   "cell_type": "code",
   "execution_count": 1,
   "id": "7f44c863",
   "metadata": {},
   "outputs": [],
   "source": [
    "l =['Take a list of sentences.',\n",
    " 'Make a function that takes a search term, a single word , and returns the sentences containing the search term',\n",
    " 'There could be millions of sentences so it should not loop every time the search function is called',\n",
    " 'Loop ekchoti chai garna milchha program bhari. Tyo search function jati choti call garyo tyati choti chai mildaina',\n",
    "   \"take make fake\"]"
   ]
  },
  {
   "cell_type": "code",
   "execution_count": 2,
   "id": "5baa11a2",
   "metadata": {},
   "outputs": [],
   "source": [
    "d = {}\n",
    "for i, data in enumerate(l):\n",
    "    for word in data.split():\n",
    "        if word not in [\"a\", \"of\", \"the\", \"he\", \"she\", \"they\", \"be\"] and word.isalpha():\n",
    "            v = word.lower().replace(\".\", \"\")\n",
    "            \n",
    "            d[v] = d.get(v, set()) | {i}"
   ]
  },
  {
   "cell_type": "code",
   "execution_count": 3,
   "id": "20db3f05",
   "metadata": {},
   "outputs": [
    {
     "data": {
      "text/plain": [
       "({'take': {0, 4},\n",
       "  'list': {0},\n",
       "  'make': {1, 4},\n",
       "  'function': {1, 2, 3},\n",
       "  'that': {1},\n",
       "  'takes': {1},\n",
       "  'search': {1, 2, 3},\n",
       "  'single': {1},\n",
       "  'word': {1},\n",
       "  'and': {1},\n",
       "  'returns': {1},\n",
       "  'sentences': {1, 2},\n",
       "  'containing': {1},\n",
       "  'term': {1},\n",
       "  'there': {2},\n",
       "  'could': {2},\n",
       "  'millions': {2},\n",
       "  'so': {2},\n",
       "  'it': {2},\n",
       "  'should': {2},\n",
       "  'not': {2},\n",
       "  'loop': {2, 3},\n",
       "  'every': {2},\n",
       "  'time': {2},\n",
       "  'is': {2},\n",
       "  'called': {2},\n",
       "  'ekchoti': {3},\n",
       "  'chai': {3},\n",
       "  'garna': {3},\n",
       "  'milchha': {3},\n",
       "  'program': {3},\n",
       "  'tyo': {3},\n",
       "  'jati': {3},\n",
       "  'choti': {3},\n",
       "  'call': {3},\n",
       "  'garyo': {3},\n",
       "  'tyati': {3},\n",
       "  'mildaina': {3},\n",
       "  'fake': {4}},\n",
       " 39)"
      ]
     },
     "execution_count": 3,
     "metadata": {},
     "output_type": "execute_result"
    }
   ],
   "source": [
    "d, len(d)"
   ]
  },
  {
   "cell_type": "code",
   "execution_count": 4,
   "id": "5895141e",
   "metadata": {},
   "outputs": [],
   "source": [
    "def lookup(word):\n",
    "    places = d[word]\n",
    "    for place in places:\n",
    "        print(l[place])"
   ]
  },
  {
   "cell_type": "code",
   "execution_count": 5,
   "id": "0af577ab",
   "metadata": {},
   "outputs": [
    {
     "name": "stdout",
     "output_type": "stream",
     "text": [
      "take make fake\n"
     ]
    }
   ],
   "source": [
    "lookup(\"fake\")"
   ]
  },
  {
   "cell_type": "code",
   "execution_count": 6,
   "id": "60b17418",
   "metadata": {},
   "outputs": [
    {
     "name": "stdout",
     "output_type": "stream",
     "text": [
      "Take a list of sentences.\n",
      "take make fake\n"
     ]
    }
   ],
   "source": [
    "lookup(\"take\")"
   ]
  },
  {
   "cell_type": "code",
   "execution_count": 7,
   "id": "24380303",
   "metadata": {},
   "outputs": [
    {
     "name": "stdout",
     "output_type": "stream",
     "text": [
      "Make a function that takes a search term, a single word , and returns the sentences containing the search term\n",
      "There could be millions of sentences so it should not loop every time the search function is called\n",
      "Loop ekchoti chai garna milchha program bhari. Tyo search function jati choti call garyo tyati choti chai mildaina\n"
     ]
    }
   ],
   "source": [
    "lookup(\"search\")"
   ]
  },
  {
   "cell_type": "markdown",
   "id": "38025435",
   "metadata": {},
   "source": [
    "# Another way -- not complete"
   ]
  },
  {
   "cell_type": "code",
   "execution_count": 8,
   "id": "41e63226",
   "metadata": {},
   "outputs": [
    {
     "ename": "NameError",
     "evalue": "name 'Counter' is not defined",
     "output_type": "error",
     "traceback": [
      "\u001b[1;31m---------------------------------------------------------------------------\u001b[0m",
      "\u001b[1;31mNameError\u001b[0m                                 Traceback (most recent call last)",
      "Input \u001b[1;32mIn [8]\u001b[0m, in \u001b[0;36m<cell line: 2>\u001b[1;34m()\u001b[0m\n\u001b[0;32m      1\u001b[0m d \u001b[38;5;241m=\u001b[39m {}\n\u001b[0;32m      2\u001b[0m \u001b[38;5;28;01mfor\u001b[39;00m i, data \u001b[38;5;129;01min\u001b[39;00m \u001b[38;5;28menumerate\u001b[39m(l):\n\u001b[1;32m----> 3\u001b[0m     ds \u001b[38;5;241m=\u001b[39m \u001b[38;5;28mdict\u001b[39m(\u001b[43mCounter\u001b[49m)\n",
      "\u001b[1;31mNameError\u001b[0m: name 'Counter' is not defined"
     ]
    }
   ],
   "source": [
    "d = {}\n",
    "for i, data in enumerate(l):\n",
    "    ds = dict(Counter)"
   ]
  },
  {
   "cell_type": "code",
   "execution_count": null,
   "id": "77470da2",
   "metadata": {},
   "outputs": [],
   "source": [
    "d, len(d)"
   ]
  },
  {
   "cell_type": "code",
   "execution_count": null,
   "id": "04abcf4c",
   "metadata": {},
   "outputs": [],
   "source": [
    "def lookup(word):\n",
    "    places = d[word]\n",
    "    for place in places:\n",
    "        print(l[place])"
   ]
  },
  {
   "cell_type": "code",
   "execution_count": null,
   "id": "00396127",
   "metadata": {},
   "outputs": [],
   "source": [
    "lookup(\"program\")"
   ]
  },
  {
   "cell_type": "code",
   "execution_count": null,
   "id": "e73dbfc5",
   "metadata": {},
   "outputs": [],
   "source": []
  }
 ],
 "metadata": {
  "kernelspec": {
   "display_name": "Python 3 (ipykernel)",
   "language": "python",
   "name": "python3"
  },
  "language_info": {
   "codemirror_mode": {
    "name": "ipython",
    "version": 3
   },
   "file_extension": ".py",
   "mimetype": "text/x-python",
   "name": "python",
   "nbconvert_exporter": "python",
   "pygments_lexer": "ipython3",
   "version": "3.9.12"
  }
 },
 "nbformat": 4,
 "nbformat_minor": 5
}
