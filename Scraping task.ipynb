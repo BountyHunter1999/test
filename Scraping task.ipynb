{
 "cells": [
  {
   "cell_type": "markdown",
   "id": "853e4ca9",
   "metadata": {},
   "source": [
    "# 1. Search something at [annapurnapost](annapurnapost.com) and store the results in a json file. The json file should at least have 30 articles of the search term - you have to do pagination."
   ]
  },
  {
   "cell_type": "code",
   "execution_count": 1,
   "id": "179b36bc",
   "metadata": {},
   "outputs": [],
   "source": [
    "# USER_AGENT = \"Mozilla/5.0 (Windows NT 10.0; Win64; x64) AppleWebKit/537.36 (KHTML, like Gecko) Chrome/104.0.5112.102 Safari/537.36\""
   ]
  },
  {
   "cell_type": "code",
   "execution_count": 2,
   "id": "51b9f6b4",
   "metadata": {},
   "outputs": [],
   "source": [
    "# ACCEPT_LANG = \"en-US,en;q=0.7\""
   ]
  },
  {
   "cell_type": "code",
   "execution_count": 3,
   "id": "2aaa0b5f",
   "metadata": {},
   "outputs": [],
   "source": [
    "# headers = {\n",
    "#     \"User-Agent\": USER_AGENT,\n",
    "#     \"Accept-Language\": ACCEPT_LANG,\n",
    "#     \"accept-encoding\": \"gzip, deflate, br\",\n",
    "# }"
   ]
  },
  {
   "cell_type": "code",
   "execution_count": 4,
   "id": "e13a4a05",
   "metadata": {},
   "outputs": [],
   "source": [
    "\n",
    "import requests\n"
   ]
  },
  {
   "cell_type": "code",
   "execution_count": 5,
   "id": "73a83797",
   "metadata": {},
   "outputs": [],
   "source": [
    "# res = requests.get(test_url, headers=headers)\n",
    "# res = requests.get(test_url)\n",
    "# print(res.text)"
   ]
  },
  {
   "cell_type": "code",
   "execution_count": 6,
   "id": "d71fd2b9",
   "metadata": {},
   "outputs": [],
   "source": [
    "# res_json = res.json()"
   ]
  },
  {
   "cell_type": "code",
   "execution_count": 7,
   "id": "c59c9281",
   "metadata": {},
   "outputs": [],
   "source": [
    "# titles = {}\n",
    "# data = res_json[\"data\"]\n",
    "# # data\n",
    "# items = data[\"items\"]\n",
    "# titles = {d['id']: d['title'] for d in items}\n",
    "# titles"
   ]
  },
  {
   "cell_type": "code",
   "execution_count": 17,
   "id": "acd02778",
   "metadata": {},
   "outputs": [],
   "source": [
    "import json\n",
    "import requests\n",
    "import os"
   ]
  },
  {
   "cell_type": "code",
   "execution_count": 18,
   "id": "740b54aa",
   "metadata": {},
   "outputs": [],
   "source": [
    "# os.listdir()\n",
    "# with open('sample.json', \"w\") as f:\n",
    "#     d = json.load(f)\n",
    "# d"
   ]
  },
  {
   "cell_type": "code",
   "execution_count": 19,
   "id": "1aa4d5d6",
   "metadata": {},
   "outputs": [],
   "source": [
    "DOMAIN = \"https://bg.annapurnapost.com\""
   ]
  },
  {
   "cell_type": "code",
   "execution_count": 20,
   "id": "9ce1731d",
   "metadata": {},
   "outputs": [],
   "source": [
    "def read_write(read=True, data={}):\n",
    "    if read:\n",
    "        with open('sample.json', 'r', encoding='utf8') as f:\n",
    "            t = json.load(f)\n",
    "    else:\n",
    "        with open('sample.json', 'w', encoding='utf8') as f:\n",
    "            t = json.dump(data, f, ensure_ascii=False)\n",
    "    return t"
   ]
  },
  {
   "cell_type": "code",
   "execution_count": 21,
   "id": "c847aa9a",
   "metadata": {},
   "outputs": [],
   "source": [
    "def get_data(query, page=1):\n",
    "    url = f\"{DOMAIN}/api/search?title={query}&page={page}\"\n",
    "    res = requests.get(url, params = {'title': ''}).json()\n",
    "    data = res['data']\n",
    "    l = int((data['links']['last']).split(\"page=\")[1].split(\"&\")[0])\n",
    "    return data, l"
   ]
  },
  {
   "cell_type": "code",
   "execution_count": 22,
   "id": "93721c19",
   "metadata": {},
   "outputs": [
    {
     "data": {
      "text/plain": [
       "False"
      ]
     },
     "execution_count": 22,
     "metadata": {},
     "output_type": "execute_result"
    }
   ],
   "source": [
    "'sample.json' in os.listdir()"
   ]
  },
  {
   "cell_type": "code",
   "execution_count": 39,
   "id": "b86e1a41",
   "metadata": {},
   "outputs": [],
   "source": [
    "# def scrap(query):\n",
    "#     \"\"\"\n",
    "#     args:\n",
    "#         query(str): query to search\n",
    "#     \"\"\"\n",
    "    \n",
    "#     if 'sample.json' in os.listdir():\n",
    "#         articles = read_write()\n",
    "#         i = articles['page'] + 1\n",
    "# #         if articles['count'] >= 30:\n",
    "# #             print(\"Already got the 30 articles\")\n",
    "# #             return\n",
    "\n",
    "#     else:\n",
    "#         articles = {}\n",
    "#         i = 1\n",
    "    \n",
    "#     while True:\n",
    "#         res, l = get_data(query, i)\n",
    "#         items = res['items']\n",
    "#         titles = [d['title'] for d in items]\n",
    "# #         titles.extend([d['title'] for d in items])\n",
    "#         articles[f\"{i}\"] = [titles, DOMAIN + res['links']['self'] + query]\n",
    "        \n",
    "#         articles['page'] = i\n",
    "#         articles['count'] = articles.get('count', 0) + len(titles)\n",
    "# #         if i == 3:\n",
    "# #             read_write(False, articles)\n",
    "# #             return\n",
    "#         if articles['count'] >= 30 or i == l+1:\n",
    "#             read_write(False, articles)\n",
    "#             return \n",
    "# #             break\n",
    "#         i += 1\n",
    "# #     return articles"
   ]
  },
  {
   "cell_type": "code",
   "execution_count": 40,
   "id": "6b046d18",
   "metadata": {},
   "outputs": [],
   "source": [
    "scrap(r\"नासा\")"
   ]
  },
  {
   "cell_type": "code",
   "execution_count": 78,
   "id": "3f985fe2",
   "metadata": {},
   "outputs": [],
   "source": [
    "def scrap(query):\n",
    "    \"\"\"\n",
    "    args:\n",
    "        query(str): query to search\n",
    "    \"\"\"\n",
    "    \n",
    "    if 'sample.json' in os.listdir():\n",
    "        data = read_write()\n",
    "        i = data['page'] + 1\n",
    "\n",
    "#         if articles['count'] >= 30:\n",
    "#             print(\"Already got the 30 articles\")\n",
    "#             return\n",
    "\n",
    "    else:\n",
    "        data = {}\n",
    "        i = 1\n",
    "    \n",
    "    while True:\n",
    "        res, l = get_data(query, i)\n",
    "        items = res['items']\n",
    "        titles = [d['title'] for d in items]\n",
    "        data['articles'] = data.get('articles', []) + titles\n",
    "        \n",
    "        data['page'] = i\n",
    "        read_write(False, data)\n",
    "        if len(data['articles']) >= 30 or i == l+1:\n",
    "            return \n",
    "        i += 1\n"
   ]
  },
  {
   "cell_type": "code",
   "execution_count": 77,
   "id": "a4244b74",
   "metadata": {},
   "outputs": [],
   "source": [
    "scrap(r\"नासा\")"
   ]
  },
  {
   "cell_type": "code",
   "execution_count": null,
   "id": "7b0218bf",
   "metadata": {},
   "outputs": [],
   "source": []
  }
 ],
 "metadata": {
  "kernelspec": {
   "display_name": "Python 3 (ipykernel)",
   "language": "python",
   "name": "python3"
  },
  "language_info": {
   "codemirror_mode": {
    "name": "ipython",
    "version": 3
   },
   "file_extension": ".py",
   "mimetype": "text/x-python",
   "name": "python",
   "nbconvert_exporter": "python",
   "pygments_lexer": "ipython3",
   "version": "3.9.12"
  }
 },
 "nbformat": 4,
 "nbformat_minor": 5
}
