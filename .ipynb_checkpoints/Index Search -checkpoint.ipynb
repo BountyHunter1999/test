{
 "cells": [
  {
   "cell_type": "code",
   "execution_count": 16,
   "id": "4fc77a34",
   "metadata": {},
   "outputs": [],
   "source": [
    "l = \"\"\"\n",
    "    Take a list of sentences.\n",
    "Make a function that takes a search term (a single word) and returns the sentences containing the search term.\n",
    "There could be millions of sentences so it should not loop every time the search function is called.\n",
    " \n",
    "Loop ekchoti chai garna milchha program bhari. Tyo search function jati choti call garyo tyati choti chai mildaina.\n",
    "\"\"\""
   ]
  },
  {
   "cell_type": "code",
   "execution_count": 17,
   "id": "bcacc786",
   "metadata": {
    "scrolled": true
   },
   "outputs": [
    {
     "data": {
      "text/plain": [
       "'\\n    Take a list of sentences.\\nMake a function that takes a search term (a single word) and returns the sentences containing the search term.\\nThere could be millions of sentences so it should not loop every time the search function is called.\\n \\nLoop ekchoti chai garna milchha program bhari. Tyo search function jati choti call garyo tyati choti chai mildaina.\\n'"
      ]
     },
     "execution_count": 17,
     "metadata": {},
     "output_type": "execute_result"
    }
   ],
   "source": [
    "l"
   ]
  },
  {
   "cell_type": "code",
   "execution_count": 18,
   "id": "cd01b70f",
   "metadata": {
    "scrolled": true
   },
   "outputs": [
    {
     "data": {
      "text/plain": [
       "['Take a list of sentences.',\n",
       " 'Make a function that takes a search term (a single word) and returns the sentences containing the search term.',\n",
       " 'There could be millions of sentences so it should not loop every time the search function is called.',\n",
       " 'Loop ekchoti chai garna milchha program bhari. Tyo search function jati choti call garyo tyati choti chai mildaina.']"
      ]
     },
     "execution_count": 18,
     "metadata": {},
     "output_type": "execute_result"
    }
   ],
   "source": [
    "l = l.strip().split(\"\\n\")\n",
    "l = [i for i in l if i != \" \"]\n",
    "l"
   ]
  },
  {
   "cell_type": "code",
   "execution_count": 43,
   "id": "04373662",
   "metadata": {},
   "outputs": [],
   "source": [
    "l =['Take a list of sentences.',\n",
    " 'Make a function that takes a search term, a single word , and returns the sentences containing the search term.',\n",
    " 'There could be millions of sentences so it should not loop every time the search function is called.',\n",
    " 'Loop ekchoti chai garna milchha program bhari. Tyo search function jati choti call garyo tyati choti chai mildaina.']"
   ]
  },
  {
   "cell_type": "code",
   "execution_count": 59,
   "id": "e1dfad68",
   "metadata": {},
   "outputs": [
    {
     "data": {
      "text/plain": [
       "False"
      ]
     },
     "execution_count": 59,
     "metadata": {},
     "output_type": "execute_result"
    }
   ],
   "source": [
    "\",\".isalpha()"
   ]
  },
  {
   "cell_type": "code",
   "execution_count": 66,
   "id": "41457ca7",
   "metadata": {},
   "outputs": [
    {
     "name": "stdout",
     "output_type": "stream",
     "text": [
      "Take a list of sentences.\n",
      "Make a function that takes a search term, a single word , and returns the sentences containing the search term.\n",
      "There could be millions of sentences so it should not loop every time the search function is called.\n",
      "Loop ekchoti chai garna milchha program bhari. Tyo search function jati choti call garyo tyati choti chai mildaina.\n"
     ]
    }
   ],
   "source": [
    "d = {}\n",
    "for i, data in enumerate(l):\n",
    "    for word in data.split():\n",
    "        if word not in d.keys() and word not in [\"a\", \"of\", \"the\", \"he\", \"she\", \"they\", \"be\"] and word.isalpha():\n",
    "            d[word] = d.get(word, []) + [i]"
   ]
  },
  {
   "cell_type": "code",
   "execution_count": 67,
   "id": "7cf18895",
   "metadata": {},
   "outputs": [
    {
     "data": {
      "text/plain": [
       "{'Take': [0],\n",
       " 'list': [0],\n",
       " 'Make': [1],\n",
       " 'function': [1],\n",
       " 'that': [1],\n",
       " 'takes': [1],\n",
       " 'search': [1],\n",
       " 'single': [1],\n",
       " 'word': [1],\n",
       " 'and': [1],\n",
       " 'returns': [1],\n",
       " 'sentences': [1],\n",
       " 'containing': [1],\n",
       " 'There': [2],\n",
       " 'could': [2],\n",
       " 'millions': [2],\n",
       " 'so': [2],\n",
       " 'it': [2],\n",
       " 'should': [2],\n",
       " 'not': [2],\n",
       " 'loop': [2],\n",
       " 'every': [2],\n",
       " 'time': [2],\n",
       " 'is': [2],\n",
       " 'Loop': [3],\n",
       " 'ekchoti': [3],\n",
       " 'chai': [3],\n",
       " 'garna': [3],\n",
       " 'milchha': [3],\n",
       " 'program': [3],\n",
       " 'Tyo': [3],\n",
       " 'jati': [3],\n",
       " 'choti': [3],\n",
       " 'call': [3],\n",
       " 'garyo': [3],\n",
       " 'tyati': [3]}"
      ]
     },
     "execution_count": 67,
     "metadata": {},
     "output_type": "execute_result"
    }
   ],
   "source": [
    "d"
   ]
  },
  {
   "cell_type": "code",
   "execution_count": 70,
   "id": "ce40e2bb",
   "metadata": {},
   "outputs": [],
   "source": [
    "def lookup(word):\n",
    "    places = d[word]\n",
    "    for place in places:\n",
    "        print(l[place])"
   ]
  },
  {
   "cell_type": "code",
   "execution_count": 71,
   "id": "4f8dd060",
   "metadata": {},
   "outputs": [
    {
     "name": "stdout",
     "output_type": "stream",
     "text": [
      "Loop ekchoti chai garna milchha program bhari. Tyo search function jati choti call garyo tyati choti chai mildaina.\n"
     ]
    }
   ],
   "source": [
    "lookup(\"program\")"
   ]
  },
  {
   "cell_type": "code",
   "execution_count": null,
   "id": "ceb69484",
   "metadata": {},
   "outputs": [],
   "source": []
  }
 ],
 "metadata": {
  "kernelspec": {
   "display_name": "Python 3 (ipykernel)",
   "language": "python",
   "name": "python3"
  },
  "language_info": {
   "codemirror_mode": {
    "name": "ipython",
    "version": 3
   },
   "file_extension": ".py",
   "mimetype": "text/x-python",
   "name": "python",
   "nbconvert_exporter": "python",
   "pygments_lexer": "ipython3",
   "version": "3.9.12"
  }
 },
 "nbformat": 4,
 "nbformat_minor": 5
}
